{
 "cells": [
  {
   "cell_type": "code",
   "execution_count": null,
   "metadata": {
    "colab": {
     "base_uri": "https://localhost:8080/"
    },
    "executionInfo": {
     "elapsed": 131767,
     "status": "ok",
     "timestamp": 1751749781949,
     "user": {
      "displayName": "Faisal Mohib",
      "userId": "01978944625578595997"
     },
     "user_tz": -300
    },
    "id": "9fYokyqi3cVd",
    "outputId": "9df4e101-599a-49ca-b553-5b3c528fe7dc"
   },
   "outputs": [],
   "source": [
    "!pip install langchain chromadb sentence-transformers pymupdf\n"
   ]
  },
  {
   "cell_type": "markdown",
   "metadata": {
    "id": "y8i5i0BS4zpK"
   },
   "source": []
  },
  {
   "cell_type": "code",
   "execution_count": null,
   "metadata": {
    "colab": {
     "base_uri": "https://localhost:8080/"
    },
    "executionInfo": {
     "elapsed": 10730,
     "status": "ok",
     "timestamp": 1751749818709,
     "user": {
      "displayName": "Faisal Mohib",
      "userId": "01978944625578595997"
     },
     "user_tz": -300
    },
    "id": "I9KVL7RC3m7h",
    "outputId": "930242c6-4a1e-4685-e871-851f0335cbc6"
   },
   "outputs": [],
   "source": [
    "!pip install -q pypdf langchain openai faiss-cpu tiktoken sentence-transformers"
   ]
  },
  {
   "cell_type": "code",
   "execution_count": null,
   "metadata": {
    "colab": {
     "base_uri": "https://localhost:8080/"
    },
    "executionInfo": {
     "elapsed": 39128,
     "status": "ok",
     "timestamp": 1751749860735,
     "user": {
      "displayName": "Faisal Mohib",
      "userId": "01978944625578595997"
     },
     "user_tz": -300
    },
    "id": "yfiohTe240h4",
    "outputId": "c90c5735-16d2-4d46-de14-43d4cbc9316d"
   },
   "outputs": [],
   "source": [
    "!pip install -q \"unstructured[pdf]\""
   ]
  },
  {
   "cell_type": "code",
   "execution_count": null,
   "metadata": {
    "executionInfo": {
     "elapsed": 9865,
     "status": "ok",
     "timestamp": 1751749872059,
     "user": {
      "displayName": "Faisal Mohib",
      "userId": "01978944625578595997"
     },
     "user_tz": -300
    },
    "id": "Y8R0c3hI44lZ"
   },
   "outputs": [],
   "source": [
    "!pip install -q gradio"
   ]
  },
  {
   "cell_type": "code",
   "execution_count": null,
   "metadata": {
    "colab": {
     "base_uri": "https://localhost:8080/"
    },
    "executionInfo": {
     "elapsed": 26847,
     "status": "ok",
     "timestamp": 1751749907184,
     "user": {
      "displayName": "Faisal Mohib",
      "userId": "01978944625578595997"
     },
     "user_tz": -300
    },
    "id": "6Orr9D3r5Bca",
    "outputId": "3850dfab-d2d2-46e6-9c53-b6a5e6b85c7c"
   },
   "outputs": [],
   "source": [
    "from google.colab import drive\n",
    "drive.mount('/content/drive')"
   ]
  },
  {
   "cell_type": "code",
   "execution_count": null,
   "metadata": {
    "executionInfo": {
     "elapsed": 44,
     "status": "ok",
     "timestamp": 1751749910878,
     "user": {
      "displayName": "Faisal Mohib",
      "userId": "01978944625578595997"
     },
     "user_tz": -300
    },
    "id": "tUpscrnC5LFu"
   },
   "outputs": [],
   "source": [
    "pdf_folder_path = '/content/drive/MyDrive/LexAi_pdfs'"
   ]
  },
  {
   "cell_type": "code",
   "execution_count": null,
   "metadata": {
    "colab": {
     "base_uri": "https://localhost:8080/"
    },
    "executionInfo": {
     "elapsed": 8191,
     "status": "ok",
     "timestamp": 1751749922571,
     "user": {
      "displayName": "Faisal Mohib",
      "userId": "01978944625578595997"
     },
     "user_tz": -300
    },
    "id": "S2P14y3g_7nd",
    "outputId": "a0e78955-e7d2-4af9-9632-c858ef4a4b4b"
   },
   "outputs": [],
   "source": [
    "!pip install -q langchain-community unstructured pypdf"
   ]
  },
  {
   "cell_type": "code",
   "execution_count": null,
   "metadata": {
    "colab": {
     "base_uri": "https://localhost:8080/"
    },
    "executionInfo": {
     "elapsed": 81720,
     "status": "ok",
     "timestamp": 1751750055441,
     "user": {
      "displayName": "Faisal Mohib",
      "userId": "01978944625578595997"
     },
     "user_tz": -300
    },
    "id": "14N9HBzdAcL5",
    "outputId": "3051f94e-a5d8-437c-eac2-8f2c802619b9"
   },
   "outputs": [],
   "source": [
    "import os\n",
    "from pypdf import PdfReader\n",
    "from langchain_community.document_loaders import UnstructuredPDFLoader\n",
    "from langchain.text_splitter import RecursiveCharacterTextSplitter\n",
    "\n",
    "def load_pdfs_from_folder(folder_path):\n",
    "    documents = []\n",
    "    for file in os.listdir(folder_path):\n",
    "        if file.endswith('.pdf'):\n",
    "            file_path = os.path.join(folder_path, file)\n",
    "            try:\n",
    "                # Try structured PDF first\n",
    "                reader = PdfReader(file_path)\n",
    "                text = \"\"\n",
    "                for page in reader.pages:\n",
    "                    text += page.extract_text()\n",
    "                if len(text) > 100:  # If we got reasonable text\n",
    "                    documents.append({\n",
    "                        'source': file,\n",
    "                        'text': text,\n",
    "                        'pages': len(reader.pages)\n",
    "                    })\n",
    "                else:\n",
    "                    # Fall back to unstructured loader\n",
    "                    loader = UnstructuredPDFLoader(file_path)\n",
    "                    data = loader.load()\n",
    "                    documents.append({\n",
    "                        'source': file,\n",
    "                        'text': data[0].page_content,\n",
    "                        'pages': 'unknown'\n",
    "                    })\n",
    "            except Exception as e:\n",
    "                print(f\"Error processing {file}: {str(e)}\")\n",
    "    return documents\n",
    "\n",
    "# Load all PDFs\n",
    "legal_docs = load_pdfs_from_folder(pdf_folder_path)\n",
    "print(f\"Loaded {len(legal_docs)} PDF documents\")"
   ]
  },
  {
   "cell_type": "code",
   "execution_count": null,
   "metadata": {
    "colab": {
     "base_uri": "https://localhost:8080/"
    },
    "executionInfo": {
     "elapsed": 853,
     "status": "ok",
     "timestamp": 1751750079713,
     "user": {
      "displayName": "Faisal Mohib",
      "userId": "01978944625578595997"
     },
     "user_tz": -300
    },
    "id": "QkUxXVB-AhsP",
    "outputId": "6bc889a4-5d44-4c4d-d31b-1e07c5d7d805"
   },
   "outputs": [],
   "source": [
    "from langchain.text_splitter import RecursiveCharacterTextSplitter\n",
    "\n",
    "text_splitter = RecursiveCharacterTextSplitter(\n",
    "    chunk_size=500,\n",
    "    chunk_overlap=100,\n",
    "    length_function=len,\n",
    "    separators=[\"\\n\\n\", \"\\n\", \"(?<=\\\\. )\", \" \", \"\"]\n",
    ")\n",
    "\n",
    "document_chunks = []\n",
    "for doc in legal_docs:\n",
    "    chunks = text_splitter.split_text(doc['text'])\n",
    "    for i, chunk in enumerate(chunks):\n",
    "        document_chunks.append({\n",
    "            'text': chunk,\n",
    "            'source': doc['source'],\n",
    "            'chunk_num': i+1,\n",
    "            'metadata': {\n",
    "                'pages': doc['pages'],\n",
    "                'file_name': doc['source']\n",
    "            }\n",
    "        })\n",
    "\n",
    "print(f\"Created {len(document_chunks)} text chunks from {len(legal_docs)} documents\")"
   ]
  },
  {
   "cell_type": "code",
   "execution_count": null,
   "metadata": {
    "executionInfo": {
     "elapsed": 5685,
     "status": "ok",
     "timestamp": 1751750096152,
     "user": {
      "displayName": "Faisal Mohib",
      "userId": "01978944625578595997"
     },
     "user_tz": -300
    },
    "id": "oGtvsXSeBRGe"
   },
   "outputs": [],
   "source": [
    "!pip install -q sentence-transformers chromadb langchain-chroma"
   ]
  },
  {
   "cell_type": "code",
   "execution_count": null,
   "metadata": {
    "executionInfo": {
     "elapsed": 12160,
     "status": "ok",
     "timestamp": 1751750111816,
     "user": {
      "displayName": "Faisal Mohib",
      "userId": "01978944625578595997"
     },
     "user_tz": -300
    },
    "id": "nLwqdKljD_ZS"
   },
   "outputs": [],
   "source": [
    "!pip install -q langchain-huggingface sentence-transformers"
   ]
  },
  {
   "cell_type": "code",
   "execution_count": null,
   "metadata": {
    "colab": {
     "base_uri": "https://localhost:8080/",
     "height": 493,
     "referenced_widgets": [
      "a2ef7418af7945efaa14bd1eb1e9aee1",
      "731a55630e6343f0a3210c1be915d233",
      "86d9e1a0da774e479ddf9c2953362b1e",
      "7812484a9ff74510b8f51b0f11063a2a",
      "05d6fea802b24077a6927cfcab501a11",
      "b319101780c04fd7ab09947b9188f069",
      "dfe49187dd1a4fdc833549975dba178f",
      "a53902476f6a47db930f5ac2469f5bf5",
      "3f3147c68b7642089c4864068d00f3cb",
      "5a5e67a1801a4d159b6cbcd60f94523b",
      "776e6d91fdd340108b725031bd0b4a9f",
      "c745d996ccae49b7afe8fcc8e6ee3703",
      "060003d4901a443a9cfc69c07fd07349",
      "a0df2d82ede64bbeb1fab944434269a2",
      "8c6ea8cad5df4573aa47a7a26c11cb5b",
      "befbaa65c325426aa68e0da7c58488ab",
      "9541c70313aa4e558ffbcb0bfbc68b69",
      "07bee2208edb4269ae1b14391da0b82a",
      "4161b1f0a019463bab1f4c2739b38c10",
      "5307c65bf0ac4032beb2fb47b69950c4",
      "aa3048a82a71406ea7784684e2ca44f7",
      "85f63f4f06b64422849482c0a744f8fd",
      "096b262b86d646739937b4f8673ad864",
      "74bd10617ccf41b784d2a80e0b6a5458",
      "8bec4b0daee34c5ebf382c71a8c71829",
      "8a10ae3dd0844b4a901b1a492b3df1b4",
      "ceff7f2b4e7d4a769f0c32ac1e88645a",
      "4851872b0ec64fe088e65ba76a61d6bc",
      "14b3e30baaf34d31bd17cb3b8e28de0b",
      "77b18fce1fb8471da2f29df35efb67a9",
      "fb2af11a182f41ea92355aceb91bac74",
      "8c5b3f40b1ab4311b9d663553127d827",
      "579ff1a803544e43b1e11f070ecd9365",
      "a290721d707f45df9719e439c8caaad2",
      "3e806dafdcb3470589af901d9c4da4f7",
      "8aba9f7a39ed4106b401e00ed8096697",
      "1907c3a517834d849d2bd240ef40ec85",
      "1a6e97e2c7cb4f989f478fd90ab54e03",
      "9a3e2c66a9704d2c84b498c25a524bbb",
      "f6c14cdde32a49ca8a597697a814d538",
      "9cbd4cd74f1c468c963abd8454848cae",
      "2ebbf5a82cc0440ba55231c439f4b71a",
      "009d4a6f61134252a82131291761e20d",
      "ba79400e833147b79dc759dc33ba707d",
      "a72d2f5ab30b4b03a40492d02fe93663",
      "1b134c2b54944261b236a82f4f161f0b",
      "10606701280249c1a76d231c6da7230e",
      "857187e1ba754f05aeb24e2ec6d58d06",
      "fcbcdbfbddef45d1b2a51d915742f6e0",
      "e89c03044b5643e7808a351e509b5498",
      "0c21b60f269d491499b175e5431ebb2c",
      "0ceb62f4d294451e9a8de997239e9d87",
      "460fa117c1ee4add93359e9e91236edf",
      "839fdf0ed0b14da494bbcc7ee07029e6",
      "75bb1d67a04c4cf4a3fd57f1db1b0618",
      "f09ac8c2b25d402088640b4c6bc4103e",
      "af928dcbd37e495a84cf3e4f0cd905e7",
      "1282205dd3064552a725b25bf425cc57",
      "98e8bcaf5e9443c88c1f43fafdce2e9a",
      "263acd9e1a874a26971c4a4b45971861",
      "f82073bafcf7469e82e9ef5c9349e6d3",
      "b4f5e4c905054127a5bbcc5050c5bf45",
      "e7056ba1dcc247779babff124a2610c5",
      "866ab97d54c546eab71586eb681c6b40",
      "34f51ab7975e464db8b2402c5f834232",
      "aae67b46f8b94321bec58b284a9df990",
      "843de72b3f1b4da29eb8ec7ffdc2fcba",
      "1d62315a6d824fffb200a9fd4b641f36",
      "6c5cceb2fef146ae805c3e6e6229e901",
      "16abd0ecd25a44efa47b67323c5291e9",
      "c5e2c96e4b484bb79ade12a84f0ba3b6",
      "95c17bcf989a454494c5ca60055b63e4",
      "fc03be761abe417f84bc574209a92ea8",
      "6cb16032cbac4d0b98d8402718d4c16b",
      "270aab757ce0403ca168755c17c1ec40",
      "d7c5a60e7f0d4ddf8dc30ae4c4edc130",
      "a4d1b634aa854a08b59c6d7c264136b5",
      "c892f960f53b45899d4038046d2658bc",
      "ef3736ddefc548a3af8d4426fa479b8e",
      "ddc9cae230264f78b5bcfd6c5e135bbe",
      "2c63bc378eab49b8b71dfc218b05b73f",
      "5af35c22dc3e4fcbbfeba8d414f2be2b",
      "a832f8c5cac84bac836040b09d4a8265",
      "6759783583cf46718407c4a9f3130665",
      "262f26b6722e4de4bd49828fd068c011",
      "5035f3d7057e4445b64e075d36c85bfa",
      "e83dc25c91724554943083f59e18df32",
      "e17eae0ceb6a4536a36c1520b1ade906",
      "ea8f9087dd0146cbaa1314299315bd2e",
      "29e55581ddba41e78cf90f24fd47154e",
      "47cb4d7233d046c688fe539eced569d6",
      "646c9bc42d37426e86671e447f4f9a59",
      "a5dc400986194526818d7e35f088986c",
      "baf2e58a48e448b48b3c6fafe4676ee8",
      "8f92d1b0c8314c34bacbeac6d8c99dac",
      "27cbd23e1f4d4bd98d622850de2eec48",
      "0b967c2743ff4fb08cf894cf234e8d17",
      "810db099e04a422185653b3766fe2486",
      "dbb12b08a7d145d4b779f98b44f6f3a2",
      "6fd57bf139dc4f4f9a6182a2930a735e",
      "52812a917dee4d168f9c06d7978990a9",
      "51d5002bdcbf46bb8f88a0aa5cc93e6c",
      "ed81b5922b824bfc882b0ee14eaa8767",
      "3cefd0fa2aa8418bba057a2cbce56669",
      "bef4b4f4ba014b44869b584c7038f318",
      "db4f1620127743598685b3b10d3e04e1",
      "7ac8a014db5146ee96f359b8aef865a5",
      "7cc4539496e843328f5e4d4c63c4bd7e",
      "a7d9813bd9974524803ec20162944ff8",
      "fa5ae54874e34981b3bccc67b90699b1",
      "ce2d7850cda943c7a6b1ec825837eba8",
      "d9567e19f82940cd87b5dd489b7eb260",
      "f67cb36ee6fc4c30945456cac67130fb",
      "8b553e0e33204496980f713bb5bfad7c",
      "722a1ca9931d43c58e38524d9a0490e3",
      "8b79e03a704846aeaea7495f3c7389bf",
      "83518e47a3ab461ea34ba747f216f873",
      "ffad45af15fd494cbffcd02284c2a7fc",
      "82a527f0ef33489f91f87021a3522d5c",
      "3db0a06475cf4889a541c1c16cdf9578",
      "e18ea4f230914b24bea63be319e1c9d2"
     ]
    },
    "executionInfo": {
     "elapsed": 48628,
     "status": "ok",
     "timestamp": 1751750163574,
     "user": {
      "displayName": "Faisal Mohib",
      "userId": "01978944625578595997"
     },
     "user_tz": -300
    },
    "id": "tMumZRt1BpZg",
    "outputId": "fe59223f-c66f-4efe-b3af-18656bdb8ad4"
   },
   "outputs": [],
   "source": [
    "# Step 5: Embed the chunks\n",
    "from langchain_huggingface import HuggingFaceEmbeddings\n",
    "embedding_model = HuggingFaceEmbeddings(\n",
    "    model_name=\"sentence-transformers/all-MiniLM-L6-v2\",\n",
    "    model_kwargs={'device': 'cpu'},\n",
    "    encode_kwargs={'normalize_embeddings': True}\n",
    ")\n"
   ]
  },
  {
   "cell_type": "code",
   "execution_count": null,
   "metadata": {
    "executionInfo": {
     "elapsed": 61,
     "status": "ok",
     "timestamp": 1751750169917,
     "user": {
      "displayName": "Faisal Mohib",
      "userId": "01978944625578595997"
     },
     "user_tz": -300
    },
    "id": "rb0li1iU9qG1"
   },
   "outputs": [],
   "source": [
    "# Step 6: Convert chunks to LangChain Documents\n",
    "from langchain_core.documents import Document\n",
    "\n",
    "documents = [\n",
    "    Document(\n",
    "        page_content=chunk[\"text\"],\n",
    "        metadata={\"source\": chunk[\"source\"], \"chunk_num\": chunk[\"chunk_num\"]}\n",
    "    ) for chunk in document_chunks\n",
    "]"
   ]
  },
  {
   "cell_type": "code",
   "execution_count": null,
   "metadata": {
    "executionInfo": {
     "elapsed": 7407,
     "status": "ok",
     "timestamp": 1751750180852,
     "user": {
      "displayName": "Faisal Mohib",
      "userId": "01978944625578595997"
     },
     "user_tz": -300
    },
    "id": "8SG2NNdyDxeP"
   },
   "outputs": [],
   "source": [
    "!pip install -q chromadb langchain-chroma"
   ]
  },
  {
   "cell_type": "code",
   "execution_count": null,
   "metadata": {
    "colab": {
     "base_uri": "https://localhost:8080/"
    },
    "executionInfo": {
     "elapsed": 1026724,
     "status": "ok",
     "timestamp": 1751751212595,
     "user": {
      "displayName": "Faisal Mohib",
      "userId": "01978944625578595997"
     },
     "user_tz": -300
    },
    "id": "F8sLETgR91LX",
    "outputId": "429dad6c-61c4-448e-9147-3ac1dc8afa37"
   },
   "outputs": [],
   "source": [
    "# Step 7: Create Chroma vector DB\n",
    "from langchain_chroma import Chroma\n",
    "\n",
    "vector_db = Chroma.from_documents(\n",
    "    documents=documents,\n",
    "    embedding=embedding_model,\n",
    "    persist_directory=\"./legal_docs_chromadb\"\n",
    ")\n",
    "\n",
    "print(f\"Created ChromaDB with {len(documents)} legal document chunks!\")\n"
   ]
  },
  {
   "cell_type": "code",
   "execution_count": null,
   "metadata": {
    "executionInfo": {
     "elapsed": 21,
     "status": "ok",
     "timestamp": 1751751223645,
     "user": {
      "displayName": "Faisal Mohib",
      "userId": "01978944625578595997"
     },
     "user_tz": -300
    },
    "id": "pCmvHCav-bPb"
   },
   "outputs": [],
   "source": [
    "# Step 8: Create Retriever with top-k filtering\n",
    "retriever = vector_db.as_retriever(search_kwargs={\n",
    "    \"k\": 3\n",
    "})"
   ]
  },
  {
   "cell_type": "code",
   "execution_count": null,
   "metadata": {
    "executionInfo": {
     "elapsed": 4221,
     "status": "ok",
     "timestamp": 1751751231167,
     "user": {
      "displayName": "Faisal Mohib",
      "userId": "01978944625578595997"
     },
     "user_tz": -300
    },
    "id": "zaeC0k6i-lIK"
   },
   "outputs": [],
   "source": [
    "!pip install -q transformers torch"
   ]
  },
  {
   "cell_type": "code",
   "execution_count": null,
   "metadata": {
    "colab": {
     "base_uri": "https://localhost:8080/",
     "height": 313,
     "referenced_widgets": [
      "77a479a0477642fb963db297f9b14cd5",
      "5ce11fff777940f481524c747ca94729",
      "d958ef6252f74684bb11c985883f4163",
      "2e4fb6ce7f194f5daf71cfaa48ddb7ba",
      "8c45d687f6c047799ea7011c9802d459",
      "d491506ea8464348a18a54e6e8c42221",
      "e8043eae7ce041358493c4225df11fd9",
      "ddf84ce68087477ebe911151190cfa2d",
      "1c9f5144b9de485587d71c1bd7956e07",
      "2f7beb7de5b146ce873e94a378d4aa71",
      "119cffe41f9d4874bded1eef40b07d61",
      "75da44d2327c424889abe2115c5a8baf",
      "4044ad549efd41949c982b318a150249",
      "6ab1ac36460b4f7fb2fb12ee80b819c8",
      "917de81b50024853908881350ba8860d",
      "5536b6ec7088403d921ab55238360f16",
      "201cc3a192264a399d4bd13df3c3b974",
      "4ea833591dc243aab89f309d9f1718d8",
      "c2942d425d294b408ae3b8bd5f38e6e5",
      "84cd24a96e6745959151641bd2ff3b61",
      "a008eb223dd842bd8be27b2ae4de7621",
      "7bbd80c249b54c4ab2ac5a3f9550a6ff",
      "04e865198baf4c8483c84cafa60820d8",
      "3807d8aef1a048c581fda9797898bc44",
      "1823caaea34f45458ed4ea03d173101e",
      "25efb8691bea4c8986ed31d04fd762fa",
      "b06390a77de144c1a470f7a23b147336",
      "18e7a879957e499c95de787bfef55ef5",
      "04c50c8069b94b6cbc724dc53baca24b",
      "09fb6d54a8274af280578b2976b1db67",
      "3faa4a08e05b413ea47fbb1c06e0d862",
      "f2feeb4f16704039a4d1d2b73f59a196",
      "2d08a763f3ee49fa9bd7e17a910c8840",
      "3fea3518a66b41108acfd2743b8856c9",
      "797b102a09c6436eb24818d9a8e38454",
      "651d2231aef94fcf89a3e0348d55a7a6",
      "a6b1f230a15344f4b7e04d734a56209d",
      "c9a28e636b0948a6963f6989b25ff8ff",
      "0287bbcc3cd043af8af4b4d14ea757e8",
      "3317011af5ac4023b1ba6a40afb2532d",
      "0b27f58a88104dd3a40c151c5515e28d",
      "590a9418a73342a4baf79358a0694a2b",
      "4ede726d3e614c66aa28f0373ae008cd",
      "3a664f674f5846c3bdd8bc3f3c539b20",
      "92b3f3336dab4c488382bd1d53813d2e",
      "def223a99df646209e39163cf98cd3b4",
      "98043862f75e40d99e475c7ae47e0a65",
      "8199627c086c41d795709dedcf5ed009",
      "2d9fb98455c342f891fab1294d0af6ef",
      "077f5d00efed4427910daed8bd79a1e4",
      "bbe61bd2d0734976891ceb07ef8c2590",
      "2ce9ca90e12e40d7bfea388740d2fac3",
      "b817945993f94862b6402d3425dec971",
      "243cf9d8440c4ff78ac24a827250d6a5",
      "b99a126aa4fe423c9857eecfa88c9163",
      "b7a352596eca4f7f82e6e62ac5cd4ff9",
      "c944e1558fd24efe91073520cd74ff63",
      "4f39029db7314e698b9f62b75b9039fc",
      "eeb037c0f7c146f282ac97d7d96d2928",
      "679a4f7905814fde867dd54bf63e8d13",
      "61b432eb0f434d41919e83a8d7cba641",
      "d62b9883d2c447a2bdb0ed2c98ca9a71",
      "45f42f3cccf04db8972f4e3f1886234d",
      "9e9376e0d0a54077b5844184c56c9a99",
      "35a30fa1fc0e4a0ea344167312e57cd1",
      "dc8ba9354d86409cb7d758f3f29e7a06",
      "0b3b979b705b40f9b71e0dea10b5c1ae",
      "9ce7595fb72140649f7308b3fd856d3f",
      "a30bb1fc3d824728b867a6ace10eca03",
      "62bb140ea8b1408a9d40a73965d1db94",
      "3064400ef492459d9b679a2d9b9bf87b",
      "278f29763a02430b83a75975c39e4b84",
      "83b45d3682a34ca38e807a043eee72d1",
      "de757157f8154dc1a80078438289a9d8",
      "67d24278a56d488185b6d88554d97401",
      "df9d405e9172477fbc8d79b67e13229e",
      "36f61639e99d44e2a5a2ed834660e46e"
     ]
    },
    "executionInfo": {
     "elapsed": 25922,
     "status": "ok",
     "timestamp": 1751751263031,
     "user": {
      "displayName": "Faisal Mohib",
      "userId": "01978944625578595997"
     },
     "user_tz": -300
    },
    "id": "1rrUt0pk-mRH",
    "outputId": "e9f8dfab-ab32-460b-b98f-961b16cdaa19"
   },
   "outputs": [],
   "source": [
    "# Step 9: Load LLM (Flan-T5)\n",
    "from transformers import pipeline\n",
    "from langchain_community.llms import HuggingFacePipeline\n",
    "from langchain.chains import RetrievalQA\n",
    "\n",
    "hf_pipe = pipeline(\n",
    "    \"text2text-generation\",\n",
    "    model=\"google/flan-t5-base\",\n",
    "    device=\"cpu\"\n",
    ")\n",
    "\n",
    "llm = HuggingFacePipeline(pipeline=hf_pipe)\n"
   ]
  },
  {
   "cell_type": "code",
   "execution_count": null,
   "metadata": {
    "executionInfo": {
     "elapsed": 11,
     "status": "ok",
     "timestamp": 1751751269310,
     "user": {
      "displayName": "Faisal Mohib",
      "userId": "01978944625578595997"
     },
     "user_tz": -300
    },
    "id": "gtCbUoCiCvFI"
   },
   "outputs": [],
   "source": [
    "# Step 10: Create RetrievalQA Chain\n",
    "legal_qa = RetrievalQA.from_chain_type(\n",
    "    llm=llm,\n",
    "    chain_type=\"stuff\",\n",
    "    retriever=retriever,\n",
    "    return_source_documents=True\n",
    ")"
   ]
  },
  {
   "cell_type": "code",
   "execution_count": null,
   "metadata": {
    "colab": {
     "base_uri": "https://localhost:8080/"
    },
    "executionInfo": {
     "elapsed": 11463,
     "status": "ok",
     "timestamp": 1751751288966,
     "user": {
      "displayName": "Faisal Mohib",
      "userId": "01978944625578595997"
     },
     "user_tz": -300
    },
    "id": "6NT4E9y2Crlq",
    "outputId": "1ce41425-1e06-4dfd-a1d8-51999773fb40"
   },
   "outputs": [],
   "source": [
    "# Step 11: Ask Legal Question\n",
    "query = \"What is the punishment under Section 302 of the PPC?\"\n",
    "result = legal_qa.invoke({\"query\": query})\n",
    "\n",
    "print(\"\\n⚖️ Legal Answer:\")\n",
    "print(result[\"result\"])\n",
    "\n",
    "print(\"\\n📚 Source Documents:\")\n",
    "for doc in result[\"source_documents\"]:\n",
    "    print(f\"- {doc.metadata['source']} (Chunk {doc.metadata['chunk_num']})\")\n"
   ]
  },
  {
   "cell_type": "code",
   "execution_count": null,
   "metadata": {
    "colab": {
     "base_uri": "https://localhost:8080/",
     "height": 35
    },
    "executionInfo": {
     "elapsed": 3855,
     "status": "ok",
     "timestamp": 1751751302031,
     "user": {
      "displayName": "Faisal Mohib",
      "userId": "01978944625578595997"
     },
     "user_tz": -300
    },
    "id": "cKhg75bvJMeu",
    "outputId": "d305cfe1-9e94-4634-a7fb-1c90cee5e1d3"
   },
   "outputs": [],
   "source": [
    "import shutil\n",
    "\n",
    "# Save and zip the vector DB folder\n",
    "shutil.make_archive('/content/legal_docs_chromadb', 'zip', './legal_docs_chromadb')\n"
   ]
  },
  {
   "cell_type": "code",
   "execution_count": null,
   "metadata": {
    "colab": {
     "base_uri": "https://localhost:8080/",
     "height": 34
    },
    "executionInfo": {
     "elapsed": 56,
     "status": "ok",
     "timestamp": 1751751332354,
     "user": {
      "displayName": "Faisal Mohib",
      "userId": "01978944625578595997"
     },
     "user_tz": -300
    },
    "id": "OMqBDSBZSj3K",
    "outputId": "8af9f908-54d7-490b-96d3-5d42b1881173"
   },
   "outputs": [],
   "source": [
    "from google.colab import files\n",
    "files.download('/content/legal_docs_chromadb.zip')"
   ]
  },
  {
   "cell_type": "code",
   "execution_count": null,
   "metadata": {
    "id": "-YYD9RJvPq-l"
   },
   "outputs": [],
   "source": []
  }
 ],
 "metadata": {
  "accelerator": "GPU",
  "colab": {
   "authorship_tag": "ABX9TyN9Rs+rvjHAQxQRpVUoQykn",
   "gpuType": "T4",
   "provenance": []
  },
  "kernelspec": {
   "display_name": "Python 3",
   "name": "python3"
  },
  "language_info": {
   "name": "python"
  }
 },
 "nbformat": 4,
 "nbformat_minor": 0
}
